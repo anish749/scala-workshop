{
 "cells": [
  {
   "cell_type": "markdown",
   "metadata": {},
   "source": [
    "### Everything is an Expression"
   ]
  },
  {
   "cell_type": "markdown",
   "metadata": {},
   "source": [
    "Things in an If Block"
   ]
  },
  {
   "cell_type": "code",
   "execution_count": 1,
   "metadata": {},
   "outputs": [
    {
     "data": {
      "text/plain": [
       "\u001b[36mage\u001b[39m: \u001b[32mInt\u001b[39m = \u001b[32m2\u001b[39m\n",
       "\u001b[36mgift\u001b[39m: \u001b[32mString\u001b[39m = \u001b[32m\"candy\"\u001b[39m"
      ]
     },
     "execution_count": 1,
     "metadata": {},
     "output_type": "execute_result"
    }
   ],
   "source": [
    "val age = 2\n",
    "val gift = if (age>10) \"books\" else \"candy\" // No mutable variables, we directly use expressions"
   ]
  },
  {
   "cell_type": "markdown",
   "metadata": {},
   "source": [
    "Expression handler is an function"
   ]
  },
  {
   "cell_type": "code",
   "execution_count": 2,
   "metadata": {},
   "outputs": [
    {
     "data": {
      "text/plain": [
       "defined \u001b[32mfunction\u001b[39m \u001b[36mhandleThrowables\u001b[39m"
      ]
     },
     "execution_count": 2,
     "metadata": {},
     "output_type": "execute_result"
    }
   ],
   "source": [
    "// A partial function that handles Throwables\n",
    "def handleThrowables: PartialFunction[Throwable, Unit] =\n",
    "    {case t: Throwable => println(s\"Oops!! ¯\\\\_(ツ)_/¯ - ${t.getMessage}\")}"
   ]
  },
  {
   "cell_type": "code",
   "execution_count": 3,
   "metadata": {},
   "outputs": [
    {
     "data": {
      "text/plain": [
       "defined \u001b[32mfunction\u001b[39m \u001b[36mgetEmail\u001b[39m\n",
       "defined \u001b[32mfunction\u001b[39m \u001b[36moutput\u001b[39m\n",
       "\u001b[36mres2_2\u001b[39m: \u001b[32mAny\u001b[39m = \u001b[32m\"email\"\u001b[39m"
      ]
     },
     "execution_count": 3,
     "metadata": {},
     "output_type": "execute_result"
    }
   ],
   "source": [
    "// Code with Happy Path\n",
    "def getEmail(): String = \"email\"\n",
    "def output = \n",
    "    \n",
    "    try getEmail()\n",
    "    catch handleThrowables  // Using expressions instead of statements\n",
    "\n",
    "output"
   ]
  },
  {
   "cell_type": "code",
   "execution_count": 4,
   "metadata": {},
   "outputs": [
    {
     "data": {
      "text/plain": [
       "defined \u001b[32mfunction\u001b[39m \u001b[36mgetEmail\u001b[39m\n",
       "\u001b[36mres3_1\u001b[39m: \u001b[32mAny\u001b[39m = \u001b[32m\"email\"\u001b[39m"
      ]
     },
     "execution_count": 4,
     "metadata": {},
     "output_type": "execute_result"
    }
   ],
   "source": [
    "// Code with very sad path\n",
    "def getEmail(): String = throw new IllegalArgumentException(\"POLICE\")\n",
    "output"
   ]
  },
  {
   "cell_type": "code",
   "execution_count": null,
   "metadata": {},
   "outputs": [],
   "source": []
  }
 ],
 "metadata": {
  "kernelspec": {
   "display_name": "Scala",
   "language": "scala",
   "name": "scala"
  },
  "language_info": {
   "codemirror_mode": "text/x-scala",
   "file_extension": ".scala",
   "mimetype": "text/x-scala",
   "name": "scala",
   "nbconvert_exporter": "script",
   "version": "2.12.8"
  }
 },
 "nbformat": 4,
 "nbformat_minor": 2
}
