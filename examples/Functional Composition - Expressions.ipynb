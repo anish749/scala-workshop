{
 "cells": [
  {
   "cell_type": "markdown",
   "metadata": {},
   "source": [
    "### Everything is an Expression"
   ]
  },
  {
   "cell_type": "markdown",
   "metadata": {},
   "source": [
    "Things in an If Block"
   ]
  },
  {
   "cell_type": "code",
   "execution_count": 5,
   "metadata": {},
   "outputs": [
    {
     "data": {
      "text/plain": [
       "\u001b[36mage\u001b[39m: \u001b[32mInt\u001b[39m = \u001b[32m2\u001b[39m\n",
       "\u001b[36mgift\u001b[39m: \u001b[32mString\u001b[39m = \u001b[32m\"candy\"\u001b[39m"
      ]
     },
     "execution_count": 5,
     "metadata": {},
     "output_type": "execute_result"
    }
   ],
   "source": [
    "val age = 2\n",
    "val gift = if (age>10) \"books\" else \"candy\" // No mutable variables, we directly use expressions"
   ]
  },
  {
   "cell_type": "markdown",
   "metadata": {},
   "source": [
    "Expression handler is an function"
   ]
  },
  {
   "cell_type": "code",
   "execution_count": 6,
   "metadata": {},
   "outputs": [
    {
     "data": {
      "text/plain": [
       "\u001b[32mimport \u001b[39m\u001b[36mscala.util.control.Exception.Catcher\n",
       "\n",
       "\u001b[39m\n",
       "defined \u001b[32mfunction\u001b[39m \u001b[36mhandleExceptions\u001b[39m"
      ]
     },
     "execution_count": 6,
     "metadata": {},
     "output_type": "execute_result"
    }
   ],
   "source": [
    "// A Catcher is a partial function that handles Throwables\n",
    "import scala.util.control.Exception.Catcher\n",
    "\n",
    "def handleExceptions: Catcher[String] ={\n",
    "  case e: Exception =>\n",
    "    println(s\"Oops!! ¯\\\\_(ツ)_/¯ - ${e.getMessage}\")\n",
    "    \"Some Default String\"\n",
    "}"
   ]
  },
  {
   "cell_type": "code",
   "execution_count": 7,
   "metadata": {},
   "outputs": [
    {
     "data": {
      "text/plain": [
       "defined \u001b[32mfunction\u001b[39m \u001b[36mgetEmail\u001b[39m\n",
       "defined \u001b[32mfunction\u001b[39m \u001b[36moutput\u001b[39m\n",
       "\u001b[36mres6_2\u001b[39m: \u001b[32mString\u001b[39m = \u001b[32m\"email\"\u001b[39m"
      ]
     },
     "execution_count": 7,
     "metadata": {},
     "output_type": "execute_result"
    }
   ],
   "source": [
    "// Code with Happy Path\n",
    "def getEmail(): String = \"email\"\n",
    "def output: String = \n",
    "    \n",
    "    try getEmail()\n",
    "    catch handleExceptions  // Using expressions instead of statements\n",
    "\n",
    "output"
   ]
  },
  {
   "cell_type": "code",
   "execution_count": 8,
   "metadata": {},
   "outputs": [
    {
     "name": "stdout",
     "output_type": "stream",
     "text": [
      "Oops!! ¯\\_(ツ)_/¯ - GDPR\n"
     ]
    },
    {
     "data": {
      "text/plain": [
       "defined \u001b[32mfunction\u001b[39m \u001b[36mgetEmail\u001b[39m\n",
       "defined \u001b[32mfunction\u001b[39m \u001b[36moutput\u001b[39m\n",
       "\u001b[36mres7_2\u001b[39m: \u001b[32mString\u001b[39m = \u001b[32m\"Some Default String\"\u001b[39m"
      ]
     },
     "execution_count": 8,
     "metadata": {},
     "output_type": "execute_result"
    }
   ],
   "source": [
    "// Code with very sad path\n",
    "def getEmail(): String = throw new IllegalArgumentException(\"GDPR\")\n",
    "def output: String = \n",
    "    \n",
    "    try getEmail()\n",
    "    catch handleExceptions  // Using expressions instead of statements\n",
    "\n",
    "output"
   ]
  }
 ],
 "metadata": {
  "kernelspec": {
   "display_name": "Scala",
   "language": "scala",
   "name": "scala"
  },
  "language_info": {
   "codemirror_mode": "text/x-scala",
   "file_extension": ".scala",
   "mimetype": "text/x-scala",
   "name": "scala",
   "nbconvert_exporter": "script",
   "version": "2.12.8"
  }
 },
 "nbformat": 4,
 "nbformat_minor": 2
}
