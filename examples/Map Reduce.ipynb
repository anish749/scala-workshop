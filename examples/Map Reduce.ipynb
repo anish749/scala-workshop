{
 "cells": [
  {
   "cell_type": "markdown",
   "metadata": {},
   "source": [
    "### Map Reduce\n",
    "\n",
    "A stateless programming model, which became popular as a very convenient way for distributed processing of data."
   ]
  },
  {
   "cell_type": "markdown",
   "metadata": {},
   "source": [
    "We have two primary operations\n",
    " - Map : Transform each element in a collection\n",
    " - Reduce : Go from a collection of elements to a value.\n",
    " \n",
    "One more thing that is necessary is grouping elements."
   ]
  },
  {
   "cell_type": "code",
   "execution_count": 1,
   "metadata": {},
   "outputs": [
    {
     "data": {
      "text/plain": [
       "\u001b[36ma\u001b[39m: \u001b[32mList\u001b[39m[\u001b[32mString\u001b[39m] = \u001b[33mList\u001b[39m(\u001b[32m\"1\"\u001b[39m, \u001b[32m\"2\"\u001b[39m, \u001b[32m\"3\"\u001b[39m, \u001b[32m\"4\"\u001b[39m, \u001b[32m\"5\"\u001b[39m, \u001b[32m\"6\"\u001b[39m)\n",
       "\u001b[36mintegers\u001b[39m: \u001b[32mList\u001b[39m[\u001b[32mInt\u001b[39m] = \u001b[33mList\u001b[39m(\u001b[32m1\u001b[39m, \u001b[32m2\u001b[39m, \u001b[32m3\u001b[39m, \u001b[32m4\u001b[39m, \u001b[32m5\u001b[39m, \u001b[32m6\u001b[39m)"
      ]
     },
     "execution_count": 1,
     "metadata": {},
     "output_type": "execute_result"
    }
   ],
   "source": [
    "// Ex: Map\n",
    "val a: List[String] = List(\"1\", \"2\", \"3\", \"4\", \"5\", \"6\")\n",
    "val integers = a.map( v => v.toInt )"
   ]
  },
  {
   "cell_type": "code",
   "execution_count": 2,
   "metadata": {},
   "outputs": [
    {
     "data": {
      "text/plain": [
       "\u001b[36mreduction\u001b[39m: \u001b[32mInt\u001b[39m = \u001b[32m21\u001b[39m"
      ]
     },
     "execution_count": 2,
     "metadata": {},
     "output_type": "execute_result"
    }
   ],
   "source": [
    "// Ex: Reduce\n",
    "val reduction = integers.reduce( (a, b) => a + b )"
   ]
  },
  {
   "cell_type": "code",
   "execution_count": 3,
   "metadata": {},
   "outputs": [
    {
     "data": {
      "text/plain": [
       "\u001b[36mevenOdd\u001b[39m: \u001b[32mMap\u001b[39m[\u001b[32mBoolean\u001b[39m, \u001b[32mList\u001b[39m[\u001b[32mInt\u001b[39m]] = \u001b[33mMap\u001b[39m(\n",
       "  false -> \u001b[33mList\u001b[39m(\u001b[32m1\u001b[39m, \u001b[32m3\u001b[39m, \u001b[32m5\u001b[39m),\n",
       "  true -> \u001b[33mList\u001b[39m(\u001b[32m2\u001b[39m, \u001b[32m4\u001b[39m, \u001b[32m6\u001b[39m)\n",
       ")"
      ]
     },
     "execution_count": 3,
     "metadata": {},
     "output_type": "execute_result"
    }
   ],
   "source": [
    "// Grouping\n",
    "val evenOdd = integers.groupBy( a => a % 2 == 0)"
   ]
  },
  {
   "cell_type": "markdown",
   "metadata": {},
   "source": [
    "### Exercise"
   ]
  },
  {
   "cell_type": "code",
   "execution_count": 4,
   "metadata": {},
   "outputs": [
    {
     "data": {
      "text/plain": [
       "defined \u001b[32mclass\u001b[39m \u001b[36mUser\u001b[39m\n",
       "\u001b[36mplays\u001b[39m: \u001b[32mList\u001b[39m[\u001b[32mUser\u001b[39m] = \u001b[33mList\u001b[39m(\n",
       "  \u001b[33mUser\u001b[39m(\u001b[32m1\u001b[39m, \u001b[32m\"US\"\u001b[39m),\n",
       "  \u001b[33mUser\u001b[39m(\u001b[32m1\u001b[39m, \u001b[32m\"US\"\u001b[39m),\n",
       "  \u001b[33mUser\u001b[39m(\u001b[32m2\u001b[39m, \u001b[32m\"SE\"\u001b[39m),\n",
       "  \u001b[33mUser\u001b[39m(\u001b[32m2\u001b[39m, \u001b[32m\"SE\"\u001b[39m),\n",
       "  \u001b[33mUser\u001b[39m(\u001b[32m1\u001b[39m, \u001b[32m\"US\"\u001b[39m),\n",
       "  \u001b[33mUser\u001b[39m(\u001b[32m3\u001b[39m, \u001b[32m\"NL\"\u001b[39m),\n",
       "  \u001b[33mUser\u001b[39m(\u001b[32m4\u001b[39m, \u001b[32m\"US\"\u001b[39m),\n",
       "  \u001b[33mUser\u001b[39m(\u001b[32m5\u001b[39m, \u001b[32m\"DE\"\u001b[39m),\n",
       "  \u001b[33mUser\u001b[39m(\u001b[32m6\u001b[39m, \u001b[32m\"DE\"\u001b[39m)\n",
       ")"
      ]
     },
     "execution_count": 4,
     "metadata": {},
     "output_type": "execute_result"
    }
   ],
   "source": [
    "case class User(id: Int, country: String)\n",
    "val plays = List(\n",
    "    User(1, \"US\"),\n",
    "    User(1, \"US\"),\n",
    "    User(2, \"SE\"),\n",
    "    User(2, \"SE\"),\n",
    "    User(1, \"US\"),\n",
    "    User(3, \"NL\"),\n",
    "    User(4, \"US\"),\n",
    "    User(5, \"DE\"),\n",
    "    User(6, \"DE\"),\n",
    ")"
   ]
  },
  {
   "cell_type": "code",
   "execution_count": 4,
   "metadata": {},
   "outputs": [],
   "source": [
    "// Find number of unique users in country\n",
    "// TODO val usersByCountry = "
   ]
  },
  {
   "cell_type": "code",
   "execution_count": null,
   "metadata": {},
   "outputs": [],
   "source": []
  },
  {
   "cell_type": "markdown",
   "metadata": {},
   "source": [
    "### Test"
   ]
  },
  {
   "cell_type": "code",
   "execution_count": 7,
   "metadata": {},
   "outputs": [
    {
     "data": {
      "text/plain": [
       "\u001b[36mexpected\u001b[39m: \u001b[32mMap\u001b[39m[\u001b[32mString\u001b[39m, \u001b[32mInt\u001b[39m] = \u001b[33mMap\u001b[39m(\u001b[32m\"SE\"\u001b[39m -> \u001b[32m1\u001b[39m, \u001b[32m\"DE\"\u001b[39m -> \u001b[32m2\u001b[39m, \u001b[32m\"NL\"\u001b[39m -> \u001b[32m1\u001b[39m, \u001b[32m\"US\"\u001b[39m -> \u001b[32m2\u001b[39m)"
      ]
     },
     "execution_count": 7,
     "metadata": {},
     "output_type": "execute_result"
    }
   ],
   "source": [
    "val expected = Map(\"SE\" -> 1, \"DE\" -> 2, \"NL\" -> 1, \"US\" -> 2)\n",
    "assert(usersByCountry == expected)"
   ]
  },
  {
   "cell_type": "code",
   "execution_count": null,
   "metadata": {},
   "outputs": [],
   "source": []
  },
  {
   "cell_type": "code",
   "execution_count": null,
   "metadata": {},
   "outputs": [],
   "source": []
  },
  {
   "cell_type": "code",
   "execution_count": null,
   "metadata": {},
   "outputs": [],
   "source": []
  },
  {
   "cell_type": "code",
   "execution_count": null,
   "metadata": {},
   "outputs": [],
   "source": []
  },
  {
   "cell_type": "code",
   "execution_count": 1,
   "metadata": {},
   "outputs": [
    {
     "data": {
      "text/plain": [
       "defined \u001b[32mfunction\u001b[39m \u001b[36mmrSum\u001b[39m"
      ]
     },
     "execution_count": 1,
     "metadata": {},
     "output_type": "execute_result"
    }
   ],
   "source": [
    "// Notes:\n",
    "// Reduce Option is safer than reduce.\n",
    "def mrSum(xs: List[Int]): Int =\n",
    "    xs.reduceOption( (a: Int, b: Int) => a + b )\n",
    "      .getOrElse(0)\n",
    "assert(mrSum(List[Int]()) == 0)"
   ]
  },
  {
   "cell_type": "markdown",
   "metadata": {},
   "source": [
    "## Solutions"
   ]
  },
  {
   "cell_type": "code",
   "execution_count": 5,
   "metadata": {},
   "outputs": [
    {
     "data": {
      "text/plain": [
       "\u001b[36musersByCountry\u001b[39m: \u001b[32mMap\u001b[39m[\u001b[32mString\u001b[39m, \u001b[32mInt\u001b[39m] = \u001b[33mMap\u001b[39m(\n",
       "  \u001b[32m\"SE\"\u001b[39m -> \u001b[32m1\u001b[39m,\n",
       "  \u001b[32m\"DE\"\u001b[39m -> \u001b[32m2\u001b[39m,\n",
       "  \u001b[32m\"NL\"\u001b[39m -> \u001b[32m1\u001b[39m,\n",
       "  \u001b[32m\"US\"\u001b[39m -> \u001b[32m2\u001b[39m\n",
       ")"
      ]
     },
     "execution_count": 5,
     "metadata": {},
     "output_type": "execute_result"
    }
   ],
   "source": [
    "// Just map and reduce\n",
    "val usersByCountry = plays.groupBy(p => p.country)\n",
    ".mapValues( \n",
    "    (users: Seq[User]) =>\n",
    "        users.distinct\n",
    "            .map( (u: User) => 1)\n",
    "            .reduce( (a: Int, b: Int) => a + b)\n",
    "          )"
   ]
  },
  {
   "cell_type": "code",
   "execution_count": 6,
   "metadata": {},
   "outputs": [
    {
     "data": {
      "text/plain": [
       "\u001b[36musersByCountry\u001b[39m: \u001b[32mMap\u001b[39m[\u001b[32mString\u001b[39m, \u001b[32mInt\u001b[39m] = \u001b[33mMap\u001b[39m(\n",
       "  \u001b[32m\"SE\"\u001b[39m -> \u001b[32m1\u001b[39m,\n",
       "  \u001b[32m\"DE\"\u001b[39m -> \u001b[32m2\u001b[39m,\n",
       "  \u001b[32m\"NL\"\u001b[39m -> \u001b[32m1\u001b[39m,\n",
       "  \u001b[32m\"US\"\u001b[39m -> \u001b[32m2\u001b[39m\n",
       ")"
      ]
     },
     "execution_count": 6,
     "metadata": {},
     "output_type": "execute_result"
    }
   ],
   "source": [
    "// With some nice Scala sugar\n",
    "// We were just calculating size of a list using \n",
    "val usersByCountry = \n",
    "    plays\n",
    "        .groupBy(p => p.country)\n",
    "        .mapValues( v => v.distinct.size)"
   ]
  },
  {
   "cell_type": "code",
   "execution_count": null,
   "metadata": {},
   "outputs": [],
   "source": []
  }
 ],
 "metadata": {
  "kernelspec": {
   "display_name": "Scala",
   "language": "scala",
   "name": "scala"
  },
  "language_info": {
   "codemirror_mode": "text/x-scala",
   "file_extension": ".scala",
   "mimetype": "text/x-scala",
   "name": "scala",
   "nbconvert_exporter": "script",
   "version": "2.12.8"
  }
 },
 "nbformat": 4,
 "nbformat_minor": 2
}
