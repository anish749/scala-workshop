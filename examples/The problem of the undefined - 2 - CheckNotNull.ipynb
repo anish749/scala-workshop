{
 "cells": [
  {
   "cell_type": "markdown",
   "metadata": {},
   "source": [
    "## Guava Preconditions"
   ]
  },
  {
   "cell_type": "markdown",
   "metadata": {},
   "source": [
    "Lets `checkNotNull` on all the arguments. Problem solved."
   ]
  },
  {
   "cell_type": "markdown",
   "metadata": {},
   "source": [
    "// Lets not download and add dependencies, Scala provides with a lovely `require`"
   ]
  },
  {
   "cell_type": "markdown",
   "metadata": {},
   "source": [
    "## Scala `require`"
   ]
  },
  {
   "cell_type": "code",
   "execution_count": 1,
   "metadata": {},
   "outputs": [
    {
     "ename": "",
     "evalue": "",
     "output_type": "error",
     "traceback": [
      "\u001b[31mjava.lang.IllegalArgumentException: requirement failed: a cannot be null!\u001b[39m\n  scala.Predef$.require(\u001b[32mPredef.scala\u001b[39m:\u001b[32m281\u001b[39m)\n  ammonite.$sess.cmd0$Helper.<init>(\u001b[32mcmd0.sc\u001b[39m:\u001b[32m2\u001b[39m)\n  ammonite.$sess.cmd0$.<init>(\u001b[32mcmd0.sc\u001b[39m:\u001b[32m7\u001b[39m)\n  ammonite.$sess.cmd0$.<clinit>(\u001b[32mcmd0.sc\u001b[39m:\u001b[32m-1\u001b[39m)"
     ]
    }
   ],
   "source": [
    "val a = null\n",
    "require(a != null, \"a cannot be null!\")"
   ]
  },
  {
   "cell_type": "code",
   "execution_count": 2,
   "metadata": {},
   "outputs": [
    {
     "data": {
      "text/plain": [
       "defined \u001b[32mclass\u001b[39m \u001b[36mUser\u001b[39m\n",
       "defined \u001b[32mclass\u001b[39m \u001b[36mDiscount\u001b[39m\n",
       "defined \u001b[32mclass\u001b[39m \u001b[36mRevenue\u001b[39m\n",
       "defined \u001b[32mfunction\u001b[39m \u001b[36mgetUserById\u001b[39m\n",
       "defined \u001b[32mfunction\u001b[39m \u001b[36mgetPriceByProduct\u001b[39m\n",
       "defined \u001b[32mfunction\u001b[39m \u001b[36mgetDiscountByCountry\u001b[39m"
      ]
     },
     "execution_count": 2,
     "metadata": {},
     "output_type": "execute_result"
    }
   ],
   "source": [
    "// Lets say we have our small little lovely in-memory awesome database!!\n",
    "\n",
    "// Here are our tables:\n",
    "case class User(id: Int, name: String, email: String, country: String)\n",
    "case class Discount(name: String, percent: Double)\n",
    "case class Revenue(user: User, product:String, totalBilled: Double)  // Never use Double for prices!\n",
    "\n",
    "\n",
    "\n",
    "def getUserById(id: Int): User = {\n",
    "  // The mad database!\n",
    "  if (id % 13 == 0){\n",
    "    null // GRPR anonymized the unlucky\n",
    "  } else if(id % 2 == 0) {\n",
    "    User(id, \"SpEC\", null, null) // You signing up on the SpEC'19 app\n",
    "  } else {\n",
    "    User(id, \"A real name\", \"fname@lname.com\", \"SE\") // You on Spotify\n",
    "  }\n",
    "}\n",
    "\n",
    "def getPriceByProduct(product: String, country: String): Double = {\n",
    "  require(product != null, \"We need a product to sell\")\n",
    "  require(country != null, \"Country is needed\")\n",
    "  Map(\n",
    "    (\"Premium\", \"US\") ->  9.99,\n",
    "    (\"Family\",  \"US\") -> 14.99,\n",
    "    (\"Premium\", \"SE\") ->  79.9,\n",
    "    (\"Family\",  \"SE\") -> 139.9,\n",
    "  )(product, country)\n",
    "}\n",
    "\n",
    "def getDiscountByCountry(country: String): Discount = {\n",
    "  require(country != null)\n",
    "  // This is our database\n",
    "  val discountsByCountry: Map[String, Discount] =\n",
    "    Map(\n",
    "      \"US\" -> Discount(\"us-student\", 50),\n",
    "      \"SE\" -> Discount(\"se-student\", 40),\n",
    "      \"DE\" -> Discount(\"de-student\", 45)\n",
    "    )\n",
    "  discountsByCountry(country)\n",
    "}\n",
    "\n"
   ]
  },
  {
   "cell_type": "code",
   "execution_count": 3,
   "metadata": {},
   "outputs": [
    {
     "data": {
      "text/plain": [
       "defined \u001b[32mfunction\u001b[39m \u001b[36mbillableAmount\u001b[39m"
      ]
     },
     "execution_count": 3,
     "metadata": {},
     "output_type": "execute_result"
    }
   ],
   "source": [
    "// Business Logic\n",
    "def billableAmount: (Int, String) => Option[Double] = {\n",
    "  case (userId, product) =>\n",
    "    val user = getUserById(userId)\n",
    "    require(user != null, \"User not found! GDPR killed them :(\")\n",
    "    val price = getPriceByProduct(product, user.country)\n",
    "    val discount = getDiscountByCountry(user.country)\n",
    "    val billedAmount =  price - (price * discount.percent / 100)\n",
    "    \n",
    "    if (billedAmount != null){\n",
    "        Some(billedAmount)\n",
    "    } else {\n",
    "        None\n",
    "    }\n",
    "}"
   ]
  },
  {
   "cell_type": "code",
   "execution_count": 4,
   "metadata": {},
   "outputs": [
    {
     "data": {
      "text/plain": [
       "\u001b[36mres3\u001b[39m: \u001b[32mOption\u001b[39m[\u001b[32mDouble\u001b[39m] = \u001b[33mSome\u001b[39m(\u001b[32m47.940000000000005\u001b[39m)"
      ]
     },
     "execution_count": 4,
     "metadata": {},
     "output_type": "execute_result"
    }
   ],
   "source": [
    "billableAmount(1, \"Premium\")"
   ]
  },
  {
   "cell_type": "markdown",
   "metadata": {},
   "source": [
    "## Do we really have any problem?"
   ]
  },
  {
   "cell_type": "code",
   "execution_count": 5,
   "metadata": {},
   "outputs": [
    {
     "ename": "",
     "evalue": "",
     "output_type": "error",
     "traceback": [
      "\u001b[31mjava.lang.IllegalArgumentException: requirement failed: Country is needed\u001b[39m\n  scala.Predef$.require(\u001b[32mPredef.scala\u001b[39m:\u001b[32m281\u001b[39m)\n  ammonite.$sess.cmd1$Helper.getPriceByProduct(\u001b[32mcmd1.sc\u001b[39m:\u001b[32m20\u001b[39m)\n  ammonite.$sess.cmd2$Helper.$anonfun$billableAmount$1(\u001b[32mcmd2.sc\u001b[39m:\u001b[32m5\u001b[39m)\n  ammonite.$sess.cmd2$Helper.$anonfun$billableAmount$1$adapted(\u001b[32mcmd2.sc\u001b[39m:\u001b[32m1\u001b[39m)\n  ammonite.$sess.cmd4$Helper.<init>(\u001b[32mcmd4.sc\u001b[39m:\u001b[32m1\u001b[39m)\n  ammonite.$sess.cmd4$.<init>(\u001b[32mcmd4.sc\u001b[39m:\u001b[32m7\u001b[39m)\n  ammonite.$sess.cmd4$.<clinit>(\u001b[32mcmd4.sc\u001b[39m:\u001b[32m-1\u001b[39m)"
     ]
    }
   ],
   "source": [
    "billableAmount(2, \"Premium\")"
   ]
  },
  {
   "cell_type": "code",
   "execution_count": 6,
   "metadata": {},
   "outputs": [
    {
     "ename": "",
     "evalue": "",
     "output_type": "error",
     "traceback": [
      "\u001b[31mjava.lang.IllegalArgumentException: requirement failed: User not found! GDPR killed them :(\u001b[39m\n  scala.Predef$.require(\u001b[32mPredef.scala\u001b[39m:\u001b[32m281\u001b[39m)\n  ammonite.$sess.cmd2$Helper.$anonfun$billableAmount$1(\u001b[32mcmd2.sc\u001b[39m:\u001b[32m4\u001b[39m)\n  ammonite.$sess.cmd2$Helper.$anonfun$billableAmount$1$adapted(\u001b[32mcmd2.sc\u001b[39m:\u001b[32m1\u001b[39m)\n  ammonite.$sess.cmd5$Helper.<init>(\u001b[32mcmd5.sc\u001b[39m:\u001b[32m1\u001b[39m)\n  ammonite.$sess.cmd5$.<init>(\u001b[32mcmd5.sc\u001b[39m:\u001b[32m7\u001b[39m)\n  ammonite.$sess.cmd5$.<clinit>(\u001b[32mcmd5.sc\u001b[39m:\u001b[32m-1\u001b[39m)"
     ]
    }
   ],
   "source": [
    "billableAmount(13, \"Premium\")"
   ]
  },
  {
   "cell_type": "markdown",
   "metadata": {},
   "source": [
    "No more NPE. We are throwing errors."
   ]
  },
  {
   "cell_type": "code",
   "execution_count": null,
   "metadata": {},
   "outputs": [],
   "source": []
  }
 ],
 "metadata": {
  "kernelspec": {
   "display_name": "Scala",
   "language": "scala",
   "name": "scala"
  },
  "language_info": {
   "codemirror_mode": "text/x-scala",
   "file_extension": ".scala",
   "mimetype": "text/x-scala",
   "name": "scala",
   "nbconvert_exporter": "script",
   "version": "2.12.8"
  }
 },
 "nbformat": 4,
 "nbformat_minor": 2
}
