{
 "cells": [
  {
   "cell_type": "markdown",
   "metadata": {},
   "source": [
    "## Clean Functions"
   ]
  },
  {
   "cell_type": "code",
   "execution_count": 1,
   "metadata": {},
   "outputs": [
    {
     "data": {
      "text/plain": [
       "defined \u001b[32mclass\u001b[39m \u001b[36mUser\u001b[39m\n",
       "defined \u001b[32mclass\u001b[39m \u001b[36mDiscount\u001b[39m\n",
       "defined \u001b[32mclass\u001b[39m \u001b[36mRevenue\u001b[39m\n",
       "defined \u001b[32mfunction\u001b[39m \u001b[36mgetUserById\u001b[39m\n",
       "defined \u001b[32mfunction\u001b[39m \u001b[36mgetPriceByProduct\u001b[39m\n",
       "defined \u001b[32mfunction\u001b[39m \u001b[36mgetDiscountByCountry\u001b[39m"
      ]
     },
     "execution_count": 1,
     "metadata": {},
     "output_type": "execute_result"
    }
   ],
   "source": [
    "// Lets say we have our small little lovely in-memory awesome database!!\n",
    "\n",
    "// Here are our tables:\n",
    "case class User(id: Int, name: String, email: Option[String], country: Option[String])\n",
    "case class Discount(name: String, percent: Double)\n",
    "case class Revenue(user: User, product:String, totalBilled: Double)  // Never use Double for prices!\n",
    "\n",
    "\n",
    "\n",
    "def getUserById(id: Int): Option[User] = {\n",
    "  // The mad database!\n",
    "  if (id % 13 == 0){\n",
    "    None // GRPR anonymized the unlucky\n",
    "  } else if(id % 2 == 0) {\n",
    "    Some(User(id, \"SpEC\", None, None)) // You signing up on the SpEC'19 app\n",
    "  } else {\n",
    "    Some(User(id, \"A real name\", Some(\"fname@lname.com\"), Some(\"SE\"))) // You on Spotify\n",
    "  }\n",
    "}\n",
    "\n",
    "def getPriceByProduct(product: String, country: String): Option[Double] = {\n",
    "  Map(\n",
    "    (\"Premium\", \"US\") ->  9.99,\n",
    "    (\"Family\",  \"US\") -> 14.99,\n",
    "    (\"Premium\", \"SE\") ->  79.9,\n",
    "    (\"Family\",  \"SE\") -> 139.9,\n",
    "  ).get( (product, country) )\n",
    "}\n",
    "\n",
    "def getDiscountByCountry(country: String): Option[Discount] = {\n",
    "  // This is our database\n",
    "  val discountsByCountry: Map[String, Discount] =\n",
    "    Map(\n",
    "      \"US\" -> Discount(\"us-student\", 50),\n",
    "      \"SE\" -> Discount(\"se-student\", 40),\n",
    "      \"DE\" -> Discount(\"de-student\", 45)\n",
    "    )\n",
    "  discountsByCountry.get(country)\n",
    "}\n",
    "\n"
   ]
  },
  {
   "cell_type": "code",
   "execution_count": 2,
   "metadata": {},
   "outputs": [
    {
     "data": {
      "text/plain": [
       "defined \u001b[32mfunction\u001b[39m \u001b[36mbillableAmount\u001b[39m"
      ]
     },
     "execution_count": 2,
     "metadata": {},
     "output_type": "execute_result"
    }
   ],
   "source": [
    "// Expected\n",
    "def billableAmount: (Int, String) => Option[Double] = {\n",
    "  case (userId, product) =>\n",
    "    for {\n",
    "      user     <- getUserById(userId)\n",
    "      _        =  println(s\"User is ${user.name}, from ${user.country}\") // Assignment / println returns Unit\n",
    "      country  <- user.country\n",
    "      price    <- getPriceByProduct(product, country)\n",
    "      _        =  println(s\"The price of $product in $country is $price\")\n",
    "      discount <- getDiscountByCountry(country)\n",
    "      _        =  println(s\"The discount available for $country is ${discount.percent}\")\n",
    "    } yield price - (price * discount.percent / 100)\n",
    "}"
   ]
  },
  {
   "cell_type": "code",
   "execution_count": 3,
   "metadata": {},
   "outputs": [
    {
     "name": "stdout",
     "output_type": "stream",
     "text": [
      "User is A real name, from Some(SE)\n",
      "The price of Premium in SE is 79.9\n",
      "The discount available for SE is 40.0\n"
     ]
    },
    {
     "data": {
      "text/plain": [
       "\u001b[36mres2\u001b[39m: \u001b[32mOption\u001b[39m[\u001b[32mDouble\u001b[39m] = \u001b[33mSome\u001b[39m(\u001b[32m47.940000000000005\u001b[39m)"
      ]
     },
     "execution_count": 3,
     "metadata": {},
     "output_type": "execute_result"
    }
   ],
   "source": [
    "billableAmount(1, \"Premium\")"
   ]
  },
  {
   "cell_type": "code",
   "execution_count": 4,
   "metadata": {},
   "outputs": [
    {
     "name": "stdout",
     "output_type": "stream",
     "text": [
      "User is SpEC, from None\n"
     ]
    },
    {
     "data": {
      "text/plain": [
       "\u001b[36mres3\u001b[39m: \u001b[32mOption\u001b[39m[\u001b[32mDouble\u001b[39m] = \u001b[32mNone\u001b[39m"
      ]
     },
     "execution_count": 4,
     "metadata": {},
     "output_type": "execute_result"
    }
   ],
   "source": [
    "billableAmount(2, \"Premium\")"
   ]
  },
  {
   "cell_type": "code",
   "execution_count": 5,
   "metadata": {},
   "outputs": [
    {
     "data": {
      "text/plain": [
       "\u001b[36mres4\u001b[39m: \u001b[32mOption\u001b[39m[\u001b[32mDouble\u001b[39m] = \u001b[32mNone\u001b[39m"
      ]
     },
     "execution_count": 5,
     "metadata": {},
     "output_type": "execute_result"
    }
   ],
   "source": [
    "billableAmount(13, \"Premium\")"
   ]
  },
  {
   "cell_type": "markdown",
   "metadata": {},
   "source": [
    "We now have clean functions."
   ]
  },
  {
   "cell_type": "code",
   "execution_count": 6,
   "metadata": {},
   "outputs": [
    {
     "data": {
      "text/plain": [
       "defined \u001b[32mfunction\u001b[39m \u001b[36mbillableAmount\u001b[39m"
      ]
     },
     "execution_count": 6,
     "metadata": {},
     "output_type": "execute_result"
    }
   ],
   "source": [
    "// Lets remove debugs and take a look at a clean function composition.\n",
    "// Expected\n",
    "def billableAmount: (Int, String) => Option[Double] = {\n",
    "  case (userId, product) =>\n",
    "    for {\n",
    "      user     <- getUserById(userId)\n",
    "      country  <- user.country\n",
    "      price    <- getPriceByProduct(product, country)\n",
    "      discount <- getDiscountByCountry(country)\n",
    "    } yield price - (price * discount.percent / 100)\n",
    "}"
   ]
  },
  {
   "cell_type": "code",
   "execution_count": 7,
   "metadata": {},
   "outputs": [
    {
     "data": {
      "text/plain": [
       "defined \u001b[32mfunction\u001b[39m \u001b[36mbillableAmount\u001b[39m"
      ]
     },
     "execution_count": 7,
     "metadata": {},
     "output_type": "execute_result"
    }
   ],
   "source": [
    "// Expected\n",
    "def billableAmount: (Int, String) => Option[Double] = {\n",
    "  case (userId, product) =>\n",
    "    getUserById(userId)\n",
    "        .flatMap{\n",
    "            user => \n",
    "                user.country.flatMap{\n",
    "                    country =>\n",
    "                        getDiscountByCountry(country).flatMap{\n",
    "                            discount =>\n",
    "                                getPriceByProduct(product, country).map{\n",
    "                                    price =>\n",
    "                                        price - (price * discount.percent / 100)\n",
    "                                }\n",
    "                        }\n",
    "                         \n",
    "                }\n",
    "        }\n",
    "}"
   ]
  },
  {
   "cell_type": "code",
   "execution_count": 8,
   "metadata": {},
   "outputs": [
    {
     "data": {
      "text/plain": [
       "\u001b[36mres7\u001b[39m: \u001b[32mOption\u001b[39m[\u001b[32mDouble\u001b[39m] = \u001b[33mSome\u001b[39m(\u001b[32m47.940000000000005\u001b[39m)"
      ]
     },
     "execution_count": 8,
     "metadata": {},
     "output_type": "execute_result"
    }
   ],
   "source": [
    "billableAmount(1, \"Premium\")"
   ]
  },
  {
   "cell_type": "code",
   "execution_count": 9,
   "metadata": {},
   "outputs": [
    {
     "data": {
      "text/plain": [
       "\u001b[36mres8\u001b[39m: \u001b[32mOption\u001b[39m[\u001b[32mDouble\u001b[39m] = \u001b[32mNone\u001b[39m"
      ]
     },
     "execution_count": 9,
     "metadata": {},
     "output_type": "execute_result"
    }
   ],
   "source": [
    "billableAmount(2, \"Premium\")"
   ]
  },
  {
   "cell_type": "code",
   "execution_count": 10,
   "metadata": {},
   "outputs": [
    {
     "data": {
      "text/plain": [
       "\u001b[36mres9\u001b[39m: \u001b[32mOption\u001b[39m[\u001b[32mDouble\u001b[39m] = \u001b[32mNone\u001b[39m"
      ]
     },
     "execution_count": 10,
     "metadata": {},
     "output_type": "execute_result"
    }
   ],
   "source": [
    "billableAmount(13, \"Premium\")"
   ]
  },
  {
   "cell_type": "code",
   "execution_count": null,
   "metadata": {},
   "outputs": [],
   "source": []
  }
 ],
 "metadata": {
  "kernelspec": {
   "display_name": "Scala",
   "language": "scala",
   "name": "scala"
  },
  "language_info": {
   "codemirror_mode": "text/x-scala",
   "file_extension": ".scala",
   "mimetype": "text/x-scala",
   "name": "scala",
   "nbconvert_exporter": "script",
   "version": "2.12.8"
  }
 },
 "nbformat": 4,
 "nbformat_minor": 2
}
