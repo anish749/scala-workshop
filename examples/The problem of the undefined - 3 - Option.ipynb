{
 "cells": [
  {
   "cell_type": "markdown",
   "metadata": {},
   "source": [
    "## Scala `Option[T]` / Java `Optional<T>` / Python `pyOptional`"
   ]
  },
  {
   "cell_type": "code",
   "execution_count": 1,
   "metadata": {},
   "outputs": [
    {
     "data": {
      "text/plain": [
       "defined \u001b[32mclass\u001b[39m \u001b[36mUser\u001b[39m\n",
       "defined \u001b[32mclass\u001b[39m \u001b[36mDiscount\u001b[39m\n",
       "defined \u001b[32mclass\u001b[39m \u001b[36mRevenue\u001b[39m\n",
       "defined \u001b[32mfunction\u001b[39m \u001b[36mgetUserById\u001b[39m\n",
       "defined \u001b[32mfunction\u001b[39m \u001b[36mgetPriceByProduct\u001b[39m\n",
       "defined \u001b[32mfunction\u001b[39m \u001b[36mgetDiscountByCountry\u001b[39m"
      ]
     },
     "execution_count": 1,
     "metadata": {},
     "output_type": "execute_result"
    }
   ],
   "source": [
    "// Lets say we have our small little lovely in-memory awesome database!!\n",
    "\n",
    "// Here are our tables:\n",
    "case class User(id: Int, name: String, email: Option[String], country: Option[String])\n",
    "case class Discount(name: String, percent: Double)\n",
    "case class Revenue(user: User, product:String, totalBilled: Double)\n",
    "// Never use Double for prices!\n",
    "\n",
    "\n",
    "def getUserById(id: Int): Option[User] = {\n",
    "  // The mad database!\n",
    "  if (id % 13 == 0){\n",
    "    None // GRPR anonymized the unlucky\n",
    "  } else if(id % 2 == 0) {\n",
    "    Some(User(id, \"SpEC\", None, None)) // You signing up on the SpEC'19 app\n",
    "  } else {\n",
    "    Some(User(id, \"A real name\", Some(\"fname@lname.com\"), Some(\"SE\"))) // You on Spotify\n",
    "  }\n",
    "}\n",
    "\n",
    "// Country can be optional, because the user might not wish to disclose\n",
    "def getPriceByProduct(product: String, country: Option[String]): Option[Double] = {\n",
    "  if (country.isEmpty) {\n",
    "      return None // Country is needed.\n",
    "  }\n",
    "  val realCountry = country.get\n",
    "  Map(\n",
    "    (\"Premium\", \"US\") ->  9.99,\n",
    "    (\"Family\",  \"US\") -> 14.99,\n",
    "    (\"Premium\", \"SE\") ->  79.9,\n",
    "    (\"Family\",  \"SE\") -> 139.9,\n",
    "  ).get( (product, realCountry) )\n",
    "}\n",
    "\n",
    "// Again, in the user table, the country is optional\n",
    "def getDiscountByCountry(country: Option[String]): Option[Discount] = {\n",
    "    if (country.isEmpty) {\n",
    "      return None // Country is needed.\n",
    "  }\n",
    "  val realCountry = country.get\n",
    "  val discountsByCountry: Map[String, Discount] =\n",
    "    Map(\n",
    "      \"US\" -> Discount(\"us-student\", 50),\n",
    "      \"SE\" -> Discount(\"se-student\", 40),\n",
    "      \"DE\" -> Discount(\"de-student\", 45)\n",
    "    )\n",
    "  discountsByCountry.get(realCountry)\n",
    "}\n",
    "\n"
   ]
  },
  {
   "cell_type": "code",
   "execution_count": 2,
   "metadata": {},
   "outputs": [
    {
     "data": {
      "text/plain": [
       "defined \u001b[32mfunction\u001b[39m \u001b[36mbillableAmount\u001b[39m"
      ]
     },
     "execution_count": 2,
     "metadata": {},
     "output_type": "execute_result"
    }
   ],
   "source": [
    "// Business Logic\n",
    "def billableAmount: (Int, String) => Option[Double] = {\n",
    "  case (userId, product) =>\n",
    "    val user = getUserById(userId)\n",
    "\n",
    "    if (user.isDefined) {\n",
    "      val definedUser = user.get\n",
    "      if (definedUser.country.isDefined) {\n",
    "        val realCountry = definedUser.country\n",
    "        val price = getPriceByProduct(product, realCountry)\n",
    "        val discount = getDiscountByCountry(realCountry)\n",
    "\n",
    "        if (price.isDefined && discount.isDefined) {\n",
    "          val billedAmount = price.get - (price.get * discount.get.percent / 100)\n",
    "          Some(billedAmount)\n",
    "        } else {\n",
    "          None\n",
    "        }\n",
    "      } else {\n",
    "        None\n",
    "      }\n",
    "    } else {\n",
    "      None\n",
    "    }\n",
    "}"
   ]
  },
  {
   "cell_type": "code",
   "execution_count": 3,
   "metadata": {},
   "outputs": [
    {
     "data": {
      "text/plain": [
       "\u001b[36mres2\u001b[39m: \u001b[32mOption\u001b[39m[\u001b[32mDouble\u001b[39m] = \u001b[33mSome\u001b[39m(\u001b[32m47.940000000000005\u001b[39m)"
      ]
     },
     "execution_count": 3,
     "metadata": {},
     "output_type": "execute_result"
    }
   ],
   "source": [
    "billableAmount(1, \"Premium\")"
   ]
  },
  {
   "cell_type": "code",
   "execution_count": 4,
   "metadata": {},
   "outputs": [
    {
     "data": {
      "text/plain": [
       "\u001b[36mres3\u001b[39m: \u001b[32mOption\u001b[39m[\u001b[32mDouble\u001b[39m] = \u001b[32mNone\u001b[39m"
      ]
     },
     "execution_count": 4,
     "metadata": {},
     "output_type": "execute_result"
    }
   ],
   "source": [
    "billableAmount(2, \"Premium\")"
   ]
  },
  {
   "cell_type": "code",
   "execution_count": 5,
   "metadata": {},
   "outputs": [
    {
     "data": {
      "text/plain": [
       "\u001b[36mres4\u001b[39m: \u001b[32mOption\u001b[39m[\u001b[32mDouble\u001b[39m] = \u001b[32mNone\u001b[39m"
      ]
     },
     "execution_count": 5,
     "metadata": {},
     "output_type": "execute_result"
    }
   ],
   "source": [
    "billableAmount(13, \"Premium\")"
   ]
  },
  {
   "cell_type": "markdown",
   "metadata": {},
   "source": [
    "# YAY !! No more errors."
   ]
  },
  {
   "cell_type": "markdown",
   "metadata": {},
   "source": [
    "### But ... "
   ]
  },
  {
   "cell_type": "markdown",
   "metadata": {},
   "source": [
    "Now you can pass a `None` to `getDiscountByCountry` and get back a `None`?\n",
    "What does that mean?"
   ]
  },
  {
   "cell_type": "markdown",
   "metadata": {},
   "source": [
    "Also using return is a bad practice in FP, but most of this code is still Imperative\n"
   ]
  },
  {
   "cell_type": "markdown",
   "metadata": {},
   "source": [
    "And what is exactly the benefit of this crap? We still have nested levels of if else checking Option / None."
   ]
  },
  {
   "cell_type": "code",
   "execution_count": null,
   "metadata": {},
   "outputs": [],
   "source": []
  }
 ],
 "metadata": {
  "kernelspec": {
   "display_name": "Scala",
   "language": "scala",
   "name": "scala"
  },
  "language_info": {
   "codemirror_mode": "text/x-scala",
   "file_extension": ".scala",
   "mimetype": "text/x-scala",
   "name": "scala",
   "nbconvert_exporter": "script",
   "version": "2.12.8"
  }
 },
 "nbformat": 4,
 "nbformat_minor": 2
}
