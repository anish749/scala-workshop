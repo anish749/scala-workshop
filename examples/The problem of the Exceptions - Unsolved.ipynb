{
 "cells": [
  {
   "cell_type": "markdown",
   "metadata": {},
   "source": [
    "### Functions that throw exceptions"
   ]
  },
  {
   "cell_type": "code",
   "execution_count": 10,
   "metadata": {},
   "outputs": [
    {
     "data": {
      "text/plain": [
       "defined \u001b[32mclass\u001b[39m \u001b[36mUser\u001b[39m\n",
       "defined \u001b[32mclass\u001b[39m \u001b[36mDiscount\u001b[39m\n",
       "defined \u001b[32mclass\u001b[39m \u001b[36mRevenue\u001b[39m\n",
       "\u001b[32mimport \u001b[39m\u001b[36mjava.io.IOException\n",
       "// Is a user or IOException\n",
       "\u001b[39m\n",
       "defined \u001b[32mfunction\u001b[39m \u001b[36mgetUserById\u001b[39m\n",
       "defined \u001b[32mfunction\u001b[39m \u001b[36mgetPriceByProduct\u001b[39m\n",
       "defined \u001b[32mfunction\u001b[39m \u001b[36mgetDiscountByCountry\u001b[39m"
      ]
     },
     "execution_count": 10,
     "metadata": {},
     "output_type": "execute_result"
    }
   ],
   "source": [
    "// Lets say we have our small little lovely in-memory awesome database!!\n",
    "\n",
    "// Here are our tables:\n",
    "case class User(id: Int, name: String, email: Option[String], country: Option[String])\n",
    "case class Discount(name: String, percent: Double)\n",
    "case class Revenue(user: User, product:String, totalBilled: Double)  // Never use Double for prices!\n",
    "\n",
    "import java.io.IOException\n",
    "// Is a user or IOException\n",
    "def getUserById(id: Int): User = {\n",
    "  // The mad database!\n",
    "  if (id % 13 == 0){\n",
    "    throw new IOException(\"Unlucky 13 !!\")\n",
    "  } else if(id % 2 == 0) {\n",
    "    User(id, \"SpEC\", None, None) // You signing up on the SpEC'19 app\n",
    "  } else {\n",
    "    User(id, \"A real name\", Some(\"fname@lname.com\"), Some(\"SE\")) // You on Spotify\n",
    "  }\n",
    "}\n",
    "\n",
    "def getPriceByProduct(product: String, country: String): Double = {\n",
    "  // In reality we have of course use a database.\n",
    "  // Hence a lot more exceptions.\n",
    "  Map(\n",
    "    (\"Premium\", \"US\") ->  9.99,\n",
    "    (\"Family\",  \"US\") -> 14.99,\n",
    "    (\"Premium\", \"SE\") ->  79.9,\n",
    "    (\"Family\",  \"SE\") -> 139.9,\n",
    "  ).getOrElse( (product, country), throw new Exception(s\"No such product $product in country $country\"))\n",
    "}\n",
    "\n",
    "def getDiscountByCountry(country: String): Discount = {\n",
    "  // This is our database\n",
    "  // Which means it can throw a wide variety of Exceptions\n",
    "  val discountsByCountry: Map[String, Discount] =\n",
    "    Map(\n",
    "      \"US\" -> Discount(\"us-student\", 50),\n",
    "      \"SE\" -> Discount(\"se-student\", 40),\n",
    "      \"DE\" -> Discount(\"de-student\", 45)\n",
    "    )\n",
    "  discountsByCountry.getOrElse(country, throw new Exception(s\"No discount available for $country\"))\n",
    "}\n",
    "\n"
   ]
  },
  {
   "cell_type": "code",
   "execution_count": 6,
   "metadata": {},
   "outputs": [
    {
     "data": {
      "text/plain": [
       "defined \u001b[32mfunction\u001b[39m \u001b[36mbillableAmount\u001b[39m"
      ]
     },
     "execution_count": 6,
     "metadata": {},
     "output_type": "execute_result"
    }
   ],
   "source": [
    "// Expected\n",
    "def billableAmount: (Int, String) => Option[Double] = {\n",
    "  case (userId, product) =>\n",
    "    val user    = getUserById(userId)\n",
    "    user.country match {\n",
    "        case Some(country) =>\n",
    "            val price = getPriceByProduct(product, country)\n",
    "            val discount = getDiscountByCountry(country)\n",
    "            val bill = price - (price * discount.percent / 100)\n",
    "            Some(bill)\n",
    "        case None => \n",
    "            throw new Exception(\"Cannot calculate price without country\")\n",
    "            None\n",
    "    }\n",
    "}"
   ]
  },
  {
   "cell_type": "code",
   "execution_count": 7,
   "metadata": {},
   "outputs": [
    {
     "data": {
      "text/plain": [
       "\u001b[36mres6\u001b[39m: \u001b[32mOption\u001b[39m[\u001b[32mDouble\u001b[39m] = \u001b[33mSome\u001b[39m(\u001b[32m47.940000000000005\u001b[39m)"
      ]
     },
     "execution_count": 7,
     "metadata": {},
     "output_type": "execute_result"
    }
   ],
   "source": [
    "billableAmount(1, \"Premium\")"
   ]
  },
  {
   "cell_type": "code",
   "execution_count": 8,
   "metadata": {},
   "outputs": [
    {
     "ename": "",
     "evalue": "",
     "output_type": "error",
     "traceback": [
      "\u001b[31mjava.lang.Exception: Cannot calculate price without country\u001b[39m\n  ammonite.$sess.cmd5$Helper.$anonfun$billableAmount$1(\u001b[32mcmd5.sc\u001b[39m:\u001b[32m11\u001b[39m)\n  ammonite.$sess.cmd5$Helper.$anonfun$billableAmount$1$adapted(\u001b[32mcmd5.sc\u001b[39m:\u001b[32m1\u001b[39m)\n  ammonite.$sess.cmd7$Helper.<init>(\u001b[32mcmd7.sc\u001b[39m:\u001b[32m1\u001b[39m)\n  ammonite.$sess.cmd7$.<init>(\u001b[32mcmd7.sc\u001b[39m:\u001b[32m7\u001b[39m)\n  ammonite.$sess.cmd7$.<clinit>(\u001b[32mcmd7.sc\u001b[39m:\u001b[32m-1\u001b[39m)"
     ]
    }
   ],
   "source": [
    "billableAmount(2, \"Premium\")"
   ]
  },
  {
   "cell_type": "code",
   "execution_count": 9,
   "metadata": {
    "scrolled": true
   },
   "outputs": [
    {
     "ename": "",
     "evalue": "",
     "output_type": "error",
     "traceback": [
      "\u001b[31mjava.io.IOException: Unlucky 13 !!\u001b[39m\n  ammonite.$sess.cmd4$Helper.getUserById(\u001b[32mcmd4.sc\u001b[39m:\u001b[32m10\u001b[39m)\n  ammonite.$sess.cmd5$Helper.$anonfun$billableAmount$1(\u001b[32mcmd5.sc\u001b[39m:\u001b[32m3\u001b[39m)\n  ammonite.$sess.cmd5$Helper.$anonfun$billableAmount$1$adapted(\u001b[32mcmd5.sc\u001b[39m:\u001b[32m1\u001b[39m)\n  ammonite.$sess.cmd8$Helper.<init>(\u001b[32mcmd8.sc\u001b[39m:\u001b[32m1\u001b[39m)\n  ammonite.$sess.cmd8$.<init>(\u001b[32mcmd8.sc\u001b[39m:\u001b[32m7\u001b[39m)\n  ammonite.$sess.cmd8$.<clinit>(\u001b[32mcmd8.sc\u001b[39m:\u001b[32m-1\u001b[39m)"
     ]
    }
   ],
   "source": [
    "billableAmount(13, \"Premium\")"
   ]
  },
  {
   "cell_type": "markdown",
   "metadata": {},
   "source": [
    "The functions above are not clean.\n",
    "\n",
    "The signatures:\n",
    " - `def getUserById(id: Int): User`\n",
    " - `def getPriceByProduct(product: String, country: String): Double`\n",
    "\n",
    "does not say if it will throw an Exception.\n",
    "\n",
    "If it does throw an exception, You have to handle that in the enclosing function call"
   ]
  },
  {
   "cell_type": "code",
   "execution_count": null,
   "metadata": {},
   "outputs": [],
   "source": []
  }
 ],
 "metadata": {
  "kernelspec": {
   "display_name": "Scala",
   "language": "scala",
   "name": "scala"
  },
  "language_info": {
   "codemirror_mode": "text/x-scala",
   "file_extension": ".scala",
   "mimetype": "text/x-scala",
   "name": "scala",
   "nbconvert_exporter": "script",
   "version": "2.12.8"
  }
 },
 "nbformat": 4,
 "nbformat_minor": 2
}
