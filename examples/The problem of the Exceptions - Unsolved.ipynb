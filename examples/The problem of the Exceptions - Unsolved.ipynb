{
 "cells": [
  {
   "cell_type": "markdown",
   "metadata": {},
   "source": [
    "## Clean Functions"
   ]
  },
  {
   "cell_type": "code",
   "execution_count": 1,
   "metadata": {},
   "outputs": [
    {
     "data": {
      "text/plain": [
       "defined \u001b[32mclass\u001b[39m \u001b[36mUser\u001b[39m\n",
       "defined \u001b[32mclass\u001b[39m \u001b[36mDiscount\u001b[39m\n",
       "defined \u001b[32mclass\u001b[39m \u001b[36mRevenue\u001b[39m\n",
       "\u001b[32mimport \u001b[39m\u001b[36mjava.io.IOException\n",
       "// Is a user or IOException\n",
       "\u001b[39m\n",
       "defined \u001b[32mfunction\u001b[39m \u001b[36mgetUserById\u001b[39m\n",
       "defined \u001b[32mfunction\u001b[39m \u001b[36mgetPriceByProduct\u001b[39m\n",
       "defined \u001b[32mfunction\u001b[39m \u001b[36mgetDiscountByCountry\u001b[39m"
      ]
     },
     "execution_count": 1,
     "metadata": {},
     "output_type": "execute_result"
    }
   ],
   "source": [
    "// Lets say we have our small little lovely in-memory awesome database!!\n",
    "\n",
    "// Here are our tables:\n",
    "case class User(id: Int, name: String, email: Option[String], country: Option[String])\n",
    "case class Discount(name: String, percent: Double)\n",
    "case class Revenue(user: User, product:String, totalBilled: Double)  // Never use Double for prices!\n",
    "\n",
    "import java.io.IOException\n",
    "// Is a user or IOException\n",
    "def getUserById(id: Int): User = {\n",
    "  // The mad database!\n",
    "  if (id % 13 == 0){\n",
    "    throw new IOException(\"Unlucky 13 !!\")\n",
    "  } else if(id % 2 == 0) {\n",
    "    User(id, \"SpEC\", None, None) // You signing up on the SpEC'19 app\n",
    "  } else {\n",
    "    User(id, \"A real name\", Some(\"fname@lname.com\"), Some(\"SE\")) // You on Spotify\n",
    "  }\n",
    "}\n",
    "\n",
    "def getPriceByProduct(product: String, country: String): Option[Double] = {\n",
    "  Map(\n",
    "    (\"Premium\", \"US\") ->  9.99,\n",
    "    (\"Family\",  \"US\") -> 14.99,\n",
    "    (\"Premium\", \"SE\") ->  79.9,\n",
    "    (\"Family\",  \"SE\") -> 139.9,\n",
    "  ).get( (product, country) )\n",
    "}\n",
    "\n",
    "def getDiscountByCountry(country: String): Option[Discount] = {\n",
    "  // This is our database\n",
    "  val discountsByCountry: Map[String, Discount] =\n",
    "    Map(\n",
    "      \"US\" -> Discount(\"us-student\", 50),\n",
    "      \"SE\" -> Discount(\"se-student\", 40),\n",
    "      \"DE\" -> Discount(\"de-student\", 45)\n",
    "    )\n",
    "  discountsByCountry.get(country)\n",
    "}\n",
    "\n"
   ]
  },
  {
   "cell_type": "code",
   "execution_count": 2,
   "metadata": {},
   "outputs": [
    {
     "data": {
      "text/plain": [
       "defined \u001b[32mfunction\u001b[39m \u001b[36mbillableAmount\u001b[39m"
      ]
     },
     "execution_count": 2,
     "metadata": {},
     "output_type": "execute_result"
    }
   ],
   "source": [
    "// Expected\n",
    "def billableAmount: (Int, String) => Option[Double] = {\n",
    "  case (userId, product) =>\n",
    "    val user    = getUserById(userId)\n",
    "    for {\n",
    "      country  <- user.country\n",
    "      price    <- getPriceByProduct(product, country)\n",
    "      discount <- getDiscountByCountry(country)\n",
    "    } yield price - (price * discount.percent / 100)\n",
    "}"
   ]
  },
  {
   "cell_type": "code",
   "execution_count": 1,
   "metadata": {},
   "outputs": [
    {
     "name": "stderr",
     "output_type": "stream",
     "text": [
      "cmd1.sc:1: not found: value billableAmount\n",
      "val res1 = billableAmount(1, \"Premium\")\n",
      "           ^Compilation Failed"
     ]
    },
    {
     "ename": "",
     "evalue": "",
     "output_type": "error",
     "traceback": [
      "Compilation Failed"
     ]
    }
   ],
   "source": [
    "billableAmount(1, \"Premium\")"
   ]
  },
  {
   "cell_type": "code",
   "execution_count": 4,
   "metadata": {},
   "outputs": [
    {
     "name": "stdout",
     "output_type": "stream",
     "text": [
      "User is SpEC, from None\n"
     ]
    },
    {
     "data": {
      "text/plain": [
       "\u001b[36mres3\u001b[39m: \u001b[32mOption\u001b[39m[\u001b[32mDouble\u001b[39m] = \u001b[32mNone\u001b[39m"
      ]
     },
     "execution_count": 4,
     "metadata": {},
     "output_type": "execute_result"
    }
   ],
   "source": [
    "billableAmount(2, \"Premium\")"
   ]
  },
  {
   "cell_type": "code",
   "execution_count": 0,
   "metadata": {
    "scrolled": true
   },
   "outputs": [
    {
     "name": "stderr",
     "output_type": "stream",
     "text": [
      "cmd0.sc:1: not found: value billableAmount\n",
      "val res0 = billableAmount(13, \"Premium\")\n",
      "           ^Compilation Failed"
     ]
    },
    {
     "ename": "",
     "evalue": "",
     "output_type": "error",
     "traceback": [
      "Compilation Failed"
     ]
    }
   ],
   "source": [
    "billableAmount(13, \"Premium\")"
   ]
  },
  {
   "cell_type": "markdown",
   "metadata": {},
   "source": [
    "We now have clean functions."
   ]
  },
  {
   "cell_type": "code",
   "execution_count": null,
   "metadata": {},
   "outputs": [],
   "source": []
  }
 ],
 "metadata": {
  "kernelspec": {
   "display_name": "Scala",
   "language": "scala",
   "name": "scala"
  },
  "language_info": {
   "codemirror_mode": "text/x-scala",
   "file_extension": ".scala",
   "mimetype": "text/x-scala",
   "name": "scala",
   "nbconvert_exporter": "script",
   "version": "2.12.8"
  }
 },
 "nbformat": 4,
 "nbformat_minor": 2
}
