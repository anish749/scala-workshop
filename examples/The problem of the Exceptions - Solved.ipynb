{
 "cells": [
  {
   "cell_type": "markdown",
   "metadata": {},
   "source": [
    "## Clean Functions once again\n",
    "Use of Right biased Either ADT."
   ]
  },
  {
   "cell_type": "code",
   "execution_count": 1,
   "metadata": {},
   "outputs": [
    {
     "data": {
      "text/plain": [
       "defined \u001b[32mclass\u001b[39m \u001b[36mUser\u001b[39m\n",
       "defined \u001b[32mclass\u001b[39m \u001b[36mDiscount\u001b[39m\n",
       "defined \u001b[32mclass\u001b[39m \u001b[36mRevenue\u001b[39m\n",
       "\u001b[32mimport \u001b[39m\u001b[36mjava.io.IOException\n",
       "// Is a user or IOException\n",
       "\u001b[39m\n",
       "defined \u001b[32mfunction\u001b[39m \u001b[36mgetUserById\u001b[39m\n",
       "defined \u001b[32mfunction\u001b[39m \u001b[36mgetPriceByProduct\u001b[39m\n",
       "defined \u001b[32mfunction\u001b[39m \u001b[36mgetDiscountByCountry\u001b[39m"
      ]
     },
     "execution_count": 1,
     "metadata": {},
     "output_type": "execute_result"
    }
   ],
   "source": [
    "// Lets say we have our small little lovely in-memory awesome database!!\n",
    "\n",
    "// Here are our tables:\n",
    "case class User(id: Int, name: String, email: Option[String], country: Option[String])\n",
    "case class Discount(name: String, percent: Double)\n",
    "case class Revenue(user: User, product:String, totalBilled: Double)  // Never use Double for prices!\n",
    "\n",
    "import java.io.IOException\n",
    "// Is a user or IOException\n",
    "def getUserById(id: Int): Either[IOException, User] = {\n",
    "  // The mad database!\n",
    "  if (id % 13 == 0) {\n",
    "    Left(new IOException(\"Unlucky 13 !!\"))\n",
    "  } else if (id % 2 == 0) {\n",
    "    Right(User(id, \"SpEC\", None, None)) // You signing up on the SpEC'19 app\n",
    "  } else {\n",
    "    Right(User(id, \"A real name\", Some(\"fname@lname.com\"), Some(\"SE\"))) // You on Spotify\n",
    "  }\n",
    "}\n",
    "\n",
    "def getPriceByProduct(product: String, country: String): Either[Exception, Double] = {\n",
    "  // In reality we have of course use a database.\n",
    "  // Hence a lot more exceptions.\n",
    "  Map(\n",
    "    (\"Premium\", \"US\") ->  9.99,\n",
    "    (\"Family\",  \"US\") -> 14.99,\n",
    "    (\"Premium\", \"SE\") ->  79.9,\n",
    "    (\"Family\",  \"SE\") -> 139.9,\n",
    "  ).get( (product, country)) match {\n",
    "    case Some(v) => Right(v)\n",
    "    case None => Left(new Exception(s\"No such product $product in country $country\"))\n",
    "  }\n",
    "\n",
    "}\n",
    "\n",
    "def getDiscountByCountry(country: String): Either[Exception, Discount] = {\n",
    "  // This is our database\n",
    "  // Which means it can throw a wide variety of Exceptions\n",
    "  val discountsByCountry: Map[String, Discount] =\n",
    "  Map(\n",
    "    \"US\" -> Discount(\"us-student\", 50),\n",
    "    \"SE\" -> Discount(\"se-student\", 40),\n",
    "    \"DE\" -> Discount(\"de-student\", 45)\n",
    "  )\n",
    "  discountsByCountry.get(country) match {\n",
    "    case Some(d) => Right(d)\n",
    "    case None => Left(new Exception(s\"No discount available for $country\"))\n",
    "  }\n",
    "}\n"
   ]
  },
  {
   "cell_type": "code",
   "execution_count": 2,
   "metadata": {},
   "outputs": [
    {
     "data": {
      "text/plain": [
       "defined \u001b[32mfunction\u001b[39m \u001b[36mbillableAmount\u001b[39m"
      ]
     },
     "execution_count": 2,
     "metadata": {},
     "output_type": "execute_result"
    }
   ],
   "source": [
    "// Expected\n",
    "def billableAmount: (Int, String) => Option[Double] = {\n",
    "  case (userId, product) =>\n",
    "    val mayBeAmt = for {\n",
    "      user     <- getUserById(userId)\n",
    "      country  = user.country.getOrElse(\"Unknown\") // Because Option and Either doesn't share a common ancestor.\n",
    "      price    <- getPriceByProduct(product, country)\n",
    "      discount <- getDiscountByCountry(country)\n",
    "    } yield price - (price * discount.percent / 100)\n",
    "\n",
    "    mayBeAmt.toOption // Lets eat up all exception ! EVIL !\n",
    "}\n"
   ]
  },
  {
   "cell_type": "code",
   "execution_count": 3,
   "metadata": {},
   "outputs": [
    {
     "data": {
      "text/plain": [
       "\u001b[36mres2\u001b[39m: \u001b[32mOption\u001b[39m[\u001b[32mDouble\u001b[39m] = \u001b[33mSome\u001b[39m(\u001b[32m47.940000000000005\u001b[39m)"
      ]
     },
     "execution_count": 3,
     "metadata": {},
     "output_type": "execute_result"
    }
   ],
   "source": [
    "billableAmount(1, \"Premium\")"
   ]
  },
  {
   "cell_type": "code",
   "execution_count": 4,
   "metadata": {},
   "outputs": [
    {
     "data": {
      "text/plain": [
       "\u001b[36mres3\u001b[39m: \u001b[32mOption\u001b[39m[\u001b[32mDouble\u001b[39m] = \u001b[32mNone\u001b[39m"
      ]
     },
     "execution_count": 4,
     "metadata": {},
     "output_type": "execute_result"
    }
   ],
   "source": [
    "billableAmount(2, \"Premium\")"
   ]
  },
  {
   "cell_type": "code",
   "execution_count": 5,
   "metadata": {
    "scrolled": true
   },
   "outputs": [
    {
     "data": {
      "text/plain": [
       "\u001b[36mres4\u001b[39m: \u001b[32mOption\u001b[39m[\u001b[32mDouble\u001b[39m] = \u001b[32mNone\u001b[39m"
      ]
     },
     "execution_count": 5,
     "metadata": {},
     "output_type": "execute_result"
    }
   ],
   "source": [
    "billableAmount(13, \"Premium\")"
   ]
  },
  {
   "cell_type": "code",
   "execution_count": null,
   "metadata": {},
   "outputs": [],
   "source": []
  }
 ],
 "metadata": {
  "kernelspec": {
   "display_name": "Scala",
   "language": "scala",
   "name": "scala"
  },
  "language_info": {
   "codemirror_mode": "text/x-scala",
   "file_extension": ".scala",
   "mimetype": "text/x-scala",
   "name": "scala",
   "nbconvert_exporter": "script",
   "version": "2.12.8"
  }
 },
 "nbformat": 4,
 "nbformat_minor": 2
}
